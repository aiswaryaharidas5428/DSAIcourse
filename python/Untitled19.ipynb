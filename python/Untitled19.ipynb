{
 "cells": [
  {
   "cell_type": "markdown",
   "metadata": {},
   "source": [
    "#Q1 #INPUT A STRING OF ODD LENGTH(MINIMUM 9 CHARACTERS)PRINT A STRING MADE OF THE 3 MIDDLE CHARACTERS FROM INPUT STRING"
   ]
  },
  {
   "cell_type": "code",
   "execution_count": null,
   "metadata": {},
   "outputs": [],
   "source": [
    "str=input(\"enter a string:\")\n",
    "l=int(len(str))\n",
    "m=int(l/2)\n",
    "s=str[m-1:m+2]\n",
    "print(\"middle characters are :\",s)"
   ]
  },
  {
   "cell_type": "code",
   "execution_count": null,
   "metadata": {},
   "outputs": [],
   "source": [
    "#Q2 #CALCULATE THE SUM AND AVERAGE OF FIRST N NATURAL NUMBERS\n",
    "  A) USING THE FOR LOOP\n",
    "  B) USING WHILE LOOP  "
   ]
  },
  {
   "cell_type": "code",
   "execution_count": null,
   "metadata": {},
   "outputs": [],
   "source": [
    "A) #USING FOR LOOP\n",
    "\n",
    "n=int(input(\"enter a number\"))\n",
    "s=0\n",
    "for i in range(1,n+1):\n",
    "    s=s+i\n",
    "    avg=s/n\n",
    "print(\"sum:\",s)    \n",
    "print(\"avg:\",avg)    "
   ]
  },
  {
   "cell_type": "code",
   "execution_count": null,
   "metadata": {},
   "outputs": [],
   "source": [
    "B) #USING WHILE LOOP\n",
    "\n",
    "n=int(input(\"enter a number\"))\n",
    "s=0\n",
    "avg=0\n",
    "i=0\n",
    "while i<=n:\n",
    "    s=s+i \n",
    "    avg=s/n\n",
    "    i=i+1\n",
    "print(\"sum:\",s)\n",
    "print(\"avg:\",avg)"
   ]
  },
  {
   "cell_type": "markdown",
   "metadata": {},
   "source": [
    "Q3 #ACCEPT LIST OF 5 FLOATING NUMBERS AS INPUT FROM USER USING LOOP AND STORE VALUES IN A LIST"
   ]
  },
  {
   "cell_type": "code",
   "execution_count": null,
   "metadata": {},
   "outputs": [],
   "source": [
    "list=[]\n",
    "for i in range(5):\n",
    "    n=float(input(\"number :\"))\n",
    "    list.append(n)\n",
    "print(\"list of five float numbers : \",list)    "
   ]
  },
  {
   "cell_type": "code",
   "execution_count": null,
   "metadata": {},
   "outputs": [],
   "source": [
    "Q4 #PRINT THE FOLLOWING PATTERN\n",
    "\n",
    "A)  1                   B)  54321\n",
    "    12                      4321      \n",
    "    123                     321  \n",
    "    1234                    21\n",
    "    12345                   1\n"
   ]
  },
  {
   "cell_type": "code",
   "execution_count": null,
   "metadata": {},
   "outputs": [],
   "source": [
    "#Q4 A)\n",
    "\n",
    "for i in range(1,6):\n",
    "    for j in range(1,i+1):\n",
    "        print(j,end=\"\")\n",
    "    print()    \n",
    "\n"
   ]
  },
  {
   "cell_type": "markdown",
   "metadata": {},
   "source": [
    "#Q4 B)\n",
    "\n",
    "for i in range(5,0,-1):\n",
    "    for j in range(i,0,-1):\n",
    "        print(j,end=\"\")\n",
    "    print()    "
   ]
  },
  {
   "cell_type": "code",
   "execution_count": null,
   "metadata": {},
   "outputs": [],
   "source": [
    "#Q5 INPUT A NUMBER COUNT ND PRINT THE TOTAL NUMBER OF DIGITS IN THAT NUMBER USING WHILE LOOP"
   ]
  },
  {
   "cell_type": "code",
   "execution_count": null,
   "metadata": {},
   "outputs": [],
   "source": []
  },
  {
   "cell_type": "code",
   "execution_count": null,
   "metadata": {},
   "outputs": [],
   "source": [
    "#Q6 GIVEN TWO LIST .CREATE A THIRD LIST BY PICKING AN ODD INDEX ELEMENT FROM THE FIRST LIST AND EVEN INDEX ELEMENT FROM SECOND\n",
    "\n",
    "              LISTONE=[3,6,9,12,15,18,21]\n",
    "              LISTTW0=[4,8,12,16,20,24,28]"
   ]
  },
  {
   "cell_type": "code",
   "execution_count": null,
   "metadata": {},
   "outputs": [],
   "source": [
    "listone=[3,6,9,12,15,18,21]\n",
    "listtwo=[4,8,12,16,20,24,28]\n",
    "listthree=[]\n",
    "a=listone[1::2]\n",
    "b=listtwo[0::2]\n",
    "listthree=a+b\n",
    "print(\"listthree : \",listthree)"
   ]
  },
  {
   "cell_type": "code",
   "execution_count": null,
   "metadata": {},
   "outputs": [],
   "source": [
    "#Q7 PROGRAM TO GET THE SMALLEST NUMBER FROM A LIST"
   ]
  },
  {
   "cell_type": "code",
   "execution_count": null,
   "metadata": {},
   "outputs": [],
   "source": []
  },
  {
   "cell_type": "code",
   "execution_count": null,
   "metadata": {},
   "outputs": [],
   "source": [
    "#Q8 REVERSE THE FOLLOWING LIST USING FOR LOOP AND RANGE WITHOUT USING REVERSE OR REVERSE FUNCTION"
   ]
  },
  {
   "cell_type": "code",
   "execution_count": null,
   "metadata": {},
   "outputs": [],
   "source": [
    "list1=[10,20,30,40,50]\n",
    "length=len(list1)\n",
    "for i in range(length,0,-1):\n",
    "    print(list1[i-1],end=\" \")\n",
    "    "
   ]
  }
 ],
 "metadata": {
  "kernelspec": {
   "display_name": "Python 3",
   "language": "python",
   "name": "python3"
  },
  "language_info": {
   "codemirror_mode": {
    "name": "ipython",
    "version": 3
   },
   "file_extension": ".py",
   "mimetype": "text/x-python",
   "name": "python",
   "nbconvert_exporter": "python",
   "pygments_lexer": "ipython3",
   "version": "3.8.3"
  }
 },
 "nbformat": 4,
 "nbformat_minor": 4
}
