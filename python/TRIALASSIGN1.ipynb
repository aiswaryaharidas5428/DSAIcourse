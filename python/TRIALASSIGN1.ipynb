{
 "cells": [
  {
   "cell_type": "code",
   "execution_count": 16,
   "metadata": {},
   "outputs": [
    {
     "name": "stdout",
     "output_type": "stream",
     "text": [
      "enter a number50\n",
      "sum: 1275\n",
      "avg: 25.5\n"
     ]
    }
   ],
   "source": [
    "n=int(input(\"enter a number\"))\n",
    "s=0\n",
    "for i in range(1,n+1):\n",
    "    s=s+i\n",
    "    avg=s/n\n",
    "print(\"sum:\",s)    \n",
    "print(\"avg:\",avg)    "
   ]
  },
  {
   "cell_type": "code",
   "execution_count": 15,
   "metadata": {},
   "outputs": [
    {
     "name": "stdout",
     "output_type": "stream",
     "text": [
      "enter a number50\n",
      "sum: 1275\n",
      "avg: 25.5\n"
     ]
    }
   ],
   "source": [
    "n=int(input(\"enter a number\"))\n",
    "s=0\n",
    "avg=0\n",
    "i=0\n",
    "while i<=n:\n",
    "    s=s+i \n",
    "    avg=s/n\n",
    "    i=i+1\n",
    "print(\"sum:\",s)\n",
    "print(\"avg:\",avg)\n",
    " "
   ]
  },
  {
   "cell_type": "code",
   "execution_count": 3,
   "metadata": {},
   "outputs": [
    {
     "name": "stdout",
     "output_type": "stream",
     "text": [
      "number :1\n",
      "number :2\n",
      "number :3\n",
      "number :4\n",
      "number :5\n",
      "list of five float numbers :  [1.0, 2.0, 3.0, 4.0, 5.0]\n"
     ]
    }
   ],
   "source": [
    "list=[]\n",
    "for i in range(5):\n",
    "    n=float(input(\"number :\"))\n",
    "    list.append(n)\n",
    "print(\"list of five float numbers : \",list)    "
   ]
  },
  {
   "cell_type": "code",
   "execution_count": 1,
   "metadata": {},
   "outputs": [
    {
     "name": "stdout",
     "output_type": "stream",
     "text": [
      "1\n",
      "12\n",
      "123\n",
      "1234\n",
      "12345\n"
     ]
    }
   ],
   "source": [
    "for i in range(1,6):\n",
    "    for j in range(1,i+1):\n",
    "        print(j,end=\"\")\n",
    "    print()    \n",
    "        "
   ]
  },
  {
   "cell_type": "code",
   "execution_count": 2,
   "metadata": {},
   "outputs": [
    {
     "name": "stdout",
     "output_type": "stream",
     "text": [
      "54321\n",
      "4321\n",
      "321\n",
      "21\n",
      "1\n"
     ]
    }
   ],
   "source": [
    "for i in range(5,0,-1):\n",
    "    for j in range(i,0,-1):\n",
    "        print(j,end=\"\")\n",
    "    print()    "
   ]
  },
  {
   "cell_type": "code",
   "execution_count": 1,
   "metadata": {},
   "outputs": [
    {
     "name": "stdout",
     "output_type": "stream",
     "text": [
      "enter a number123\n",
      "total digits = 3\n"
     ]
    }
   ],
   "source": [
    "n=int(input(\"enter a number\"))\n",
    "count=0\n",
    "while n!=0:\n",
    "    count=count+1\n",
    "    n=n//10\n",
    "print(\"total digits =\",count)"
   ]
  },
  {
   "cell_type": "code",
   "execution_count": 1,
   "metadata": {},
   "outputs": [
    {
     "name": "stdout",
     "output_type": "stream",
     "text": [
      "listthree :  [6, 12, 18, 4, 12, 20, 28]\n"
     ]
    }
   ],
   "source": [
    "listone=[3,6,9,12,15,18,21]\n",
    "listtwo=[4,8,12,16,20,24,28]\n",
    "listthree=[]\n",
    "a=listone[1::2]\n",
    "b=listtwo[0::2]\n",
    "listthree=a+b\n",
    "print(\"listthree : \",listthree)"
   ]
  },
  {
   "cell_type": "code",
   "execution_count": 2,
   "metadata": {},
   "outputs": [
    {
     "name": "stdout",
     "output_type": "stream",
     "text": [
      "50 40 30 20 10 "
     ]
    }
   ],
   "source": [
    "list1=[10,20,30,40,50]\n",
    "length=len(list1)\n",
    "for i in range(length,0,-1):\n",
    "    print(list1[i-1],end=\" \")\n",
    "    "
   ]
  },
  {
   "cell_type": "code",
   "execution_count": 15,
   "metadata": {},
   "outputs": [
    {
     "name": "stdout",
     "output_type": "stream",
     "text": [
      "enter a string:aiswaryaa\n",
      "middle characters are : war\n"
     ]
    }
   ],
   "source": [
    "str=input(\"enter a string:\")\n",
    "l=int(len(str))\n",
    "m=int(l/2)\n",
    "s=str[m-1:m+2]\n",
    "print(\"middle characters are :\",s)"
   ]
  },
  {
   "cell_type": "code",
   "execution_count": 3,
   "metadata": {},
   "outputs": [
    {
     "name": "stdout",
     "output_type": "stream",
     "text": [
      "[8, 7, 2, -1, 0]\n",
      "smallest number: -1\n",
      "\n",
      "smallest number is -5\n"
     ]
    }
   ],
   "source": [
    "list=[]\n",
    "list.append(8)\n",
    "list.append(7)\n",
    "list.append(2)\n",
    "list.append(-1)\n",
    "list.append(0)\n",
    "print(list)\n",
    "n=len(list)\n",
    "smallest=list[0]\n",
    "for i in range(1,n):\n",
    "    if(list[i]<smallest):\n",
    "        smallest=list[i]\n",
    "print(\"smallest number:\",smallest)\n",
    "print()\n",
    "list=[2,1,-5,7,4]\n",
    "n=len(list)\n",
    "smallest=list[0]\n",
    "for i in range(1,n):\n",
    "    if(list[i]<smallest):\n",
    "        smallest=list[i]\n",
    "print(\"smallest number is\",smallest)\n",
    "        "
   ]
  },
  {
   "cell_type": "code",
   "execution_count": 5,
   "metadata": {},
   "outputs": [
    {
     "name": "stdout",
     "output_type": "stream",
     "text": [
      "list=2 5 1 0 9\n",
      "smallest number:  \n",
      "\n",
      "smallest number is -5\n"
     ]
    }
   ],
   "source": [
    "list=input(\"list=\")\n",
    "n=len(list)\n",
    "smallest=list[0]\n",
    "for i in range(1,n):\n",
    "    if(list[i]<smallest):\n",
    "        smallest=list[i]\n",
    "print(\"smallest number:\",smallest)\n",
    "print()\n",
    "list=[2,1,-5,7,4]\n",
    "n=len(list)\n",
    "smallest=list[0]\n",
    "for i in range(1,n):\n",
    "    if(list[i]<smallest):\n",
    "        smallest=list[i]\n",
    "print(\"smallest number is\",smallest)\n",
    "        "
   ]
  },
  {
   "cell_type": "code",
   "execution_count": 1,
   "metadata": {},
   "outputs": [
    {
     "name": "stdout",
     "output_type": "stream",
     "text": [
      "smallest number is -5\n"
     ]
    }
   ],
   "source": [
    "list=[9,-5,8,2,1]\n",
    "n=len(list)\n",
    "smallest=list[0]\n",
    "for i in range(1,n):\n",
    "    if(list[i]<smallest):\n",
    "        smallest=list[i]\n",
    "print(\"smallest number is\",smallest)\n",
    "        "
   ]
  },
  {
   "cell_type": "code",
   "execution_count": null,
   "metadata": {},
   "outputs": [],
   "source": []
  }
 ],
 "metadata": {
  "kernelspec": {
   "display_name": "Python 3",
   "language": "python",
   "name": "python3"
  },
  "language_info": {
   "codemirror_mode": {
    "name": "ipython",
    "version": 3
   },
   "file_extension": ".py",
   "mimetype": "text/x-python",
   "name": "python",
   "nbconvert_exporter": "python",
   "pygments_lexer": "ipython3",
   "version": "3.8.3"
  }
 },
 "nbformat": 4,
 "nbformat_minor": 4
}
