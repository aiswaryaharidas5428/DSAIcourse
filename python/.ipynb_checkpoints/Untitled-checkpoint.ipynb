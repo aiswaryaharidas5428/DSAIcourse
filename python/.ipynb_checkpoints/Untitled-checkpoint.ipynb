{
 "cells": [
  {
   "cell_type": "code",
   "execution_count": 4,
   "metadata": {},
   "outputs": [
    {
     "name": "stdout",
     "output_type": "stream",
     "text": [
      "enter a radius : 6\n",
      "area of the circle with radius 6 = 113.03999999999999\n"
     ]
    }
   ],
   "source": [
    "#Q1 AREA OF A CIRCLE\n",
    "\n",
    "pi=3.14\n",
    "r=int(input(\"enter a radius : \"))\n",
    "area=pi*r*r\n",
    "print(\"area of the circle with radius\",r,\"=\",area)\n"
   ]
  },
  {
   "cell_type": "code",
   "execution_count": 5,
   "metadata": {},
   "outputs": [
    {
     "name": "stdout",
     "output_type": "stream",
     "text": [
      "enter a string :aiswarya\n",
      "reverse of string: ayrawsia\n"
     ]
    }
   ],
   "source": [
    "#Q2 GET A STRING AS INPUT AND PRINT THE REVERSE OF THE STRING\n",
    "\n",
    "s=input(\"enter a string :\")\n",
    "r=s[::-1]\n",
    "print(\"reverse of string:\",r)"
   ]
  },
  {
   "cell_type": "code",
   "execution_count": 6,
   "metadata": {},
   "outputs": [
    {
     "name": "stdout",
     "output_type": "stream",
     "text": [
      "enter the three numbers : 2\n",
      "3\n",
      "5\n",
      "average of three numbers =  6.666666666666667\n"
     ]
    }
   ],
   "source": [
    "#Q3 INPUT THREE NUMBERS AND FIND ITS AVERAGE\n",
    "\n",
    "a=int(input(\"enter the three numbers : \"))\n",
    "b=int(input())\n",
    "c=int(input())\n",
    "avg=a+b+c/3\n",
    "print(\"average of three numbers = \",avg)\n"
   ]
  },
  {
   "cell_type": "code",
   "execution_count": 8,
   "metadata": {},
   "outputs": [
    {
     "name": "stdout",
     "output_type": "stream",
     "text": [
      "enter a string : INDIA\n",
      "characters in odd index are :  IDA\n",
      "characters in even index are :  NI\n"
     ]
    }
   ],
   "source": [
    "#Q4 GET A STRING AND PRINT CHARACTERS AT EVEN AND ODD INDEX\n",
    "\n",
    "s=input(\"enter a string : \")\n",
    "a=s[0::2]\n",
    "print(\"characters in odd index are : \",a)\n",
    "b=s[1::2]\n",
    "print(\"characters in even index are : \",b)\n"
   ]
  },
  {
   "cell_type": "code",
   "execution_count": 19,
   "metadata": {},
   "outputs": [
    {
     "name": "stdout",
     "output_type": "stream",
     "text": [
      "enter the three numbers : 9\n",
      "3\n",
      "2\n",
      "a is greater 9\n"
     ]
    }
   ],
   "source": [
    "#Q5 INPUT THREE NUMBERS FIND BIG AMONG THEM\n",
    "\n",
    "a=int(input(\"enter the three numbers : \"))\n",
    "b=int(input())\n",
    "c=int(input())\n",
    "if a>b:\n",
    "   if a>c:\n",
    "      print(\"a is greater\",a)\n",
    "   else:\n",
    "      print(\"c is greater\",c)\n",
    "else:\n",
    "    if b>c:\n",
    "       print(\"b is greater\",b)\n",
    "    else:\n",
    "       print(\"c is greater\",c)"
   ]
  },
  {
   "cell_type": "code",
   "execution_count": null,
   "metadata": {},
   "outputs": [],
   "source": []
  },
  {
   "cell_type": "code",
   "execution_count": null,
   "metadata": {},
   "outputs": [],
   "source": []
  }
 ],
 "metadata": {
  "kernelspec": {
   "display_name": "Python 3",
   "language": "python",
   "name": "python3"
  },
  "language_info": {
   "codemirror_mode": {
    "name": "ipython",
    "version": 3
   },
   "file_extension": ".py",
   "mimetype": "text/x-python",
   "name": "python",
   "nbconvert_exporter": "python",
   "pygments_lexer": "ipython3",
   "version": "3.8.3"
  }
 },
 "nbformat": 4,
 "nbformat_minor": 4
}
