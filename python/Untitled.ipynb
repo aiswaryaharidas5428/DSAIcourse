{
 "cells": [
  {
   "cell_type": "code",
   "execution_count": 4,
   "metadata": {},
   "outputs": [
    {
     "name": "stdout",
     "output_type": "stream",
     "text": [
      "enter a radius : 6\n",
      "area of the circle with radius 6 = 113.03999999999999\n"
     ]
    }
   ],
   "source": [
    "#Q1 AREA OF A CIRCLE\n",
    "\n",
    "pi=3.14\n",
    "r=int(input(\"enter a radius : \"))\n",
    "area=pi*r*r\n",
    "print(\"area of the circle with radius\",r,\"=\",area)\n"
   ]
  },
  {
   "cell_type": "code",
   "execution_count": 5,
   "metadata": {},
   "outputs": [
    {
     "name": "stdout",
     "output_type": "stream",
     "text": [
      "enter a string :aiswarya\n",
      "reverse of string: ayrawsia\n"
     ]
    }
   ],
   "source": [
    "#Q2 GET A STRING AS INPUT AND PRINT THE REVERSE OF THE STRING\n",
    "\n",
    "s=input(\"enter a string :\")\n",
    "r=s[::-1]\n",
    "print(\"reverse of string:\",r)"
   ]
  },
  {
   "cell_type": "code",
   "execution_count": 6,
   "metadata": {},
   "outputs": [
    {
     "name": "stdout",
     "output_type": "stream",
     "text": [
      "enter the three numbers : 2\n",
      "3\n",
      "5\n",
      "average of three numbers =  6.666666666666667\n"
     ]
    }
   ],
   "source": [
    "#Q3 INPUT THREE NUMBERS AND FIND ITS AVERAGE\n",
    "\n",
    "a=int(input(\"enter the three numbers : \"))\n",
    "b=int(input())\n",
    "c=int(input())\n",
    "avg=a+b+c/3\n",
    "print(\"average of three numbers = \",avg)\n"
   ]
  },
  {
   "cell_type": "code",
   "execution_count": 8,
   "metadata": {},
   "outputs": [
    {
     "name": "stdout",
     "output_type": "stream",
     "text": [
      "enter a string : INDIA\n",
      "characters in odd index are :  IDA\n",
      "characters in even index are :  NI\n"
     ]
    }
   ],
   "source": [
    "#Q4 GET A STRING AND PRINT CHARACTERS AT EVEN AND ODD INDEX\n",
    "\n",
    "s=input(\"enter a string : \")\n",
    "a=s[0::2]\n",
    "print(\"characters in odd index are : \",a)\n",
    "b=s[1::2]\n",
    "print(\"characters in even index are : \",b)\n"
   ]
  },
  {
   "cell_type": "code",
   "execution_count": 21,
   "metadata": {},
   "outputs": [
    {
     "name": "stdout",
     "output_type": "stream",
     "text": [
      "enter the three numbers : 9\n",
      "6\n",
      "4\n",
      "9 is greater\n"
     ]
    }
   ],
   "source": [
    "#Q5 INPUT THREE NUMBERS FIND BIG AMONG THEM\n",
    "\n",
    "a=int(input(\"enter the three numbers : \"))\n",
    "b=int(input())\n",
    "c=int(input())\n",
    "if a>b:\n",
    "   if a>c:\n",
    "      print(a,\"is greater\")\n",
    "   else:\n",
    "      print(c,\"is greater\")\n",
    "else:\n",
    "    if b>c:\n",
    "       print(b,\"is greater\")\n",
    "    else:\n",
    "       print(c,\"is greater\")"
   ]
  },
  {
   "cell_type": "code",
   "execution_count": null,
   "metadata": {},
   "outputs": [],
   "source": [
    "\"mh\"\n",
    "4"
   ]
  },
  {
   "cell_type": "code",
   "execution_count": 22,
   "metadata": {},
   "outputs": [
    {
     "ename": "SyntaxError",
     "evalue": "invalid syntax (<ipython-input-22-c3ca6b56575d>, line 2)",
     "output_type": "error",
     "traceback": [
      "\u001b[1;36m  File \u001b[1;32m\"<ipython-input-22-c3ca6b56575d>\"\u001b[1;36m, line \u001b[1;32m2\u001b[0m\n\u001b[1;33m    while i=i*1\u001b[0m\n\u001b[1;37m           ^\u001b[0m\n\u001b[1;31mSyntaxError\u001b[0m\u001b[1;31m:\u001b[0m invalid syntax\n"
     ]
    }
   ],
   "source": [
    "i=int(input(\"enter a number:\"))\n",
    "while i=i*1\n",
    "print(i*i+1)\n"
   ]
  },
  {
   "cell_type": "code",
   "execution_count": 27,
   "metadata": {},
   "outputs": [
    {
     "ename": "SyntaxError",
     "evalue": "invalid syntax (<ipython-input-27-3fa1c92c8db7>, line 2)",
     "output_type": "error",
     "traceback": [
      "\u001b[1;36m  File \u001b[1;32m\"<ipython-input-27-3fa1c92c8db7>\"\u001b[1;36m, line \u001b[1;32m2\u001b[0m\n\u001b[1;33m    while i%5 !=0 :\u001b[0m\n\u001b[1;37m    ^\u001b[0m\n\u001b[1;31mSyntaxError\u001b[0m\u001b[1;31m:\u001b[0m invalid syntax\n"
     ]
    }
   ],
   "source": [
    "i=int(input(\"enter a multiple of 5:\")\n",
    "while i%5 !=0 :\n",
    "   i=int(input(\"rnter multiple of 5\"))\n",
    "else:\n",
    "   print(%d\"multiple of 7:\"%i)\n",
    " "
   ]
  },
  {
   "cell_type": "code",
   "execution_count": 29,
   "metadata": {},
   "outputs": [
    {
     "ename": "SyntaxError",
     "evalue": "invalid syntax (<ipython-input-29-2079dc20fcb3>, line 4)",
     "output_type": "error",
     "traceback": [
      "\u001b[1;36m  File \u001b[1;32m\"<ipython-input-29-2079dc20fcb3>\"\u001b[1;36m, line \u001b[1;32m4\u001b[0m\n\u001b[1;33m    else:\u001b[0m\n\u001b[1;37m    ^\u001b[0m\n\u001b[1;31mSyntaxError\u001b[0m\u001b[1;31m:\u001b[0m invalid syntax\n"
     ]
    }
   ],
   "source": [
    "i=int(input(\"enter  multiple of 5\"))\n",
    "while i%5 !=0 :\n",
    "    i= int(input(\"enter the multiple of 5\"))\n",
    "    else:\n",
    "        print(%d is amultiple of 7\"%i)"
   ]
  },
  {
   "cell_type": "code",
   "execution_count": 34,
   "metadata": {},
   "outputs": [
    {
     "ename": "NameError",
     "evalue": "name 'num' is not defined",
     "output_type": "error",
     "traceback": [
      "\u001b[1;31m---------------------------------------------------------------------------\u001b[0m",
      "\u001b[1;31mNameError\u001b[0m                                 Traceback (most recent call last)",
      "\u001b[1;32m<ipython-input-34-2ced91a7b6ba>\u001b[0m in \u001b[0;36m<module>\u001b[1;34m\u001b[0m\n\u001b[0;32m      1\u001b[0m \u001b[1;32mfor\u001b[0m \u001b[0mi\u001b[0m \u001b[1;32min\u001b[0m \u001b[0mrange\u001b[0m\u001b[1;33m(\u001b[0m\u001b[1;36m1\u001b[0m\u001b[1;33m,\u001b[0m\u001b[1;36m11\u001b[0m\u001b[1;33m)\u001b[0m\u001b[1;33m:\u001b[0m\u001b[1;33m\u001b[0m\u001b[1;33m\u001b[0m\u001b[0m\n\u001b[1;32m----> 2\u001b[1;33m     \u001b[0mprint\u001b[0m\u001b[1;33m(\u001b[0m\u001b[0mnum\u001b[0m\u001b[1;33m,\u001b[0m\u001b[1;34m'x'\u001b[0m\u001b[1;33m,\u001b[0m\u001b[0mi\u001b[0m\u001b[1;33m,\u001b[0m\u001b[1;34m'='\u001b[0m\u001b[1;33m,\u001b[0m\u001b[0mnum\u001b[0m\u001b[1;33m*\u001b[0m\u001b[0mi\u001b[0m\u001b[1;33m)\u001b[0m\u001b[1;33m\u001b[0m\u001b[1;33m\u001b[0m\u001b[0m\n\u001b[0m",
      "\u001b[1;31mNameError\u001b[0m: name 'num' is not defined"
     ]
    }
   ],
   "source": [
    "for i in range(1,11):\n",
    "    print(num,'x',i,'=',num*i)\n"
   ]
  },
  {
   "cell_type": "code",
   "execution_count": null,
   "metadata": {},
   "outputs": [],
   "source": []
  },
  {
   "cell_type": "code",
   "execution_count": null,
   "metadata": {},
   "outputs": [],
   "source": []
  }
 ],
 "metadata": {
  "kernelspec": {
   "display_name": "Python 3",
   "language": "python",
   "name": "python3"
  },
  "language_info": {
   "codemirror_mode": {
    "name": "ipython",
    "version": 3
   },
   "file_extension": ".py",
   "mimetype": "text/x-python",
   "name": "python",
   "nbconvert_exporter": "python",
   "pygments_lexer": "ipython3",
   "version": "3.8.3"
  }
 },
 "nbformat": 4,
 "nbformat_minor": 4
}
