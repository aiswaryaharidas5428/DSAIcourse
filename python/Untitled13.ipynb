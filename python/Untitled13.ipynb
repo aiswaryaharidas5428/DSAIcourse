{
 "cells": [
  {
   "cell_type": "code",
   "execution_count": 6,
   "metadata": {},
   "outputs": [
    {
     "name": "stdout",
     "output_type": "stream",
     "text": [
      "avg 25.5\n"
     ]
    }
   ],
   "source": [
    "s=0\n",
    "for i in range(1,51):\n",
    "    s=s+i\n",
    "    avg=s/i\n",
    "print(\"avg\",avg)    "
   ]
  },
  {
   "cell_type": "code",
   "execution_count": null,
   "metadata": {},
   "outputs": [],
   "source": [
    "n=int(input(\"enter a number:\"))\n",
    "i=0\n",
    "s=0\n",
    "while i<=n:\n",
    "      s=s+i\n",
    "print(\"sum:\",s)\n",
    "    i=i+1      \n",
    "      "
   ]
  },
  {
   "cell_type": "code",
   "execution_count": 1,
   "metadata": {},
   "outputs": [],
   "source": [
    "list=[]\n",
    "for i in list:\n",
    "    list[i]=int(input())\n",
    "    print(list[i])"
   ]
  },
  {
   "cell_type": "code",
   "execution_count": null,
   "metadata": {},
   "outputs": [],
   "source": []
  }
 ],
 "metadata": {
  "kernelspec": {
   "display_name": "Python 3",
   "language": "python",
   "name": "python3"
  },
  "language_info": {
   "codemirror_mode": {
    "name": "ipython",
    "version": 3
   },
   "file_extension": ".py",
   "mimetype": "text/x-python",
   "name": "python",
   "nbconvert_exporter": "python",
   "pygments_lexer": "ipython3",
   "version": "3.8.3"
  }
 },
 "nbformat": 4,
 "nbformat_minor": 4
}
