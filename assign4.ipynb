{
 "cells": [
  {
   "cell_type": "markdown",
   "metadata": {},
   "source": [
    "#Q1.CREATE A TXT FILE,ENTER MULTIPLE LINES OF TEXT.READ THIS FILE LINE BY LINE AND STORE IT INTO A LIST.APPLY EXCEPTION HANDLING TECHNIQUE."
   ]
  },
  {
   "cell_type": "code",
   "execution_count": 1,
   "metadata": {},
   "outputs": [
    {
     "name": "stdout",
     "output_type": "stream",
     "text": [
      "Overwriting file1.txt\n"
     ]
    }
   ],
   "source": [
    "%%writefile file1.txt\n",
    "Hello helloooo\n",
    "Im Aiswarya\n",
    "Im a good girl"
   ]
  },
  {
   "cell_type": "code",
   "execution_count": 2,
   "metadata": {},
   "outputs": [
    {
     "name": "stdout",
     "output_type": "stream",
     "text": [
      "['Hello helloooo\\n']\n",
      "['Hello helloooo\\n', 'Im Aiswarya\\n']\n",
      "['Hello helloooo\\n', 'Im Aiswarya\\n', 'Im a good girl\\n']\n",
      "file read successfully\n"
     ]
    }
   ],
   "source": [
    "try:\n",
    "    myfile=open(\"file1.txt\")\n",
    "except Exception as err1:\n",
    "        print(\"no such file exist\")\n",
    "else:\n",
    "    myfile.seek(0)\n",
    "    f=myfile.readlines()\n",
    "    list=[]\n",
    "    for i in f:\n",
    "        list.append(i)\n",
    "        print(list)\n",
    "finally:\n",
    "    print(\"file read successfully\")"
   ]
  },
  {
   "cell_type": "markdown",
   "metadata": {},
   "source": [
    "#Q2.WRITE A PYTHON PROGRAM TO WRITE BELOW LIST CONTENT TO A FILE.APPLY EXCEPTION HANDLING TECHNIQUE. color=['red','green','white','black','pink','yellow']"
   ]
  },
  {
   "cell_type": "code",
   "execution_count": 3,
   "metadata": {},
   "outputs": [
    {
     "name": "stdout",
     "output_type": "stream",
     "text": [
      "red\n",
      "green\n",
      "white\n",
      "black\n",
      "pink\n",
      "yellow\n",
      "\n",
      "list content stored successfully\n"
     ]
    }
   ],
   "source": [
    "color=['red','green','white','black','pink','yellow']\n",
    "try:\n",
    "    myfile1=open(\"file2.txt\",'w+')\n",
    "except Exception as err1:\n",
    "    print(\"error occurred\",err1)\n",
    "else:\n",
    "    for i in color:\n",
    "        myfile1.writelines(i+\"\\n\")\n",
    "    myfile1.seek(0)\n",
    "    list=myfile1.read()\n",
    "finally:\n",
    "    print(list)\n",
    "    print(\"list content stored successfully\")\n",
    "        "
   ]
  },
  {
   "cell_type": "markdown",
   "metadata": {},
   "source": [
    "#Q3.CREATE A TXT FILE,ENTER MULTIPLE LINES OF TEXT.REMOVE NEWLINE CHARACTERS FROM CREATED FILE AND POINT AS A LIST.APPLY EXCEPTION HANDLING TECHNIQUES WHEREVER POSSIBLE"
   ]
  },
  {
   "cell_type": "code",
   "execution_count": 4,
   "metadata": {},
   "outputs": [
    {
     "name": "stdout",
     "output_type": "stream",
     "text": [
      "Overwriting file3.txt\n"
     ]
    }
   ],
   "source": [
    "%%writefile file3.txt\n",
    "Hellooo 1\n",
    "Hellooo 2\n",
    "Hellooo 3"
   ]
  },
  {
   "cell_type": "code",
   "execution_count": 5,
   "metadata": {},
   "outputs": [
    {
     "name": "stdout",
     "output_type": "stream",
     "text": [
      "['Hellooo 1', 'Hellooo 2', 'Hellooo 3']\n"
     ]
    }
   ],
   "source": [
    "try:\n",
    "    myfile2=open(\"file3.txt\")\n",
    "    myfile2.seek(0)\n",
    "    text=myfile2.readlines()\n",
    "except Exception as error:\n",
    "    print(\"error occured\",error)\n",
    "else:\n",
    "    list1=[]\n",
    "    for i in text:\n",
    "        list1.append(i.strip())\n",
    "finally:\n",
    "    print(list1)\n"
   ]
  },
  {
   "cell_type": "markdown",
   "metadata": {},
   "source": [
    "#Q4.CREATE A TESTFILE1.TXT FILE,ENTER MULTIPLE LINES OF TEXT.NOW COPY CONTENTS OF TESTFILE1.TXT TO NEW FILE TESTFILE22.TXT. .APPLY EXCEPTION HANDLING TECHNIQUES WHEREVER POSSIBLE."
   ]
  },
  {
   "cell_type": "code",
   "execution_count": 6,
   "metadata": {},
   "outputs": [
    {
     "name": "stdout",
     "output_type": "stream",
     "text": [
      "Overwriting textfile1.txt\n"
     ]
    }
   ],
   "source": [
    "%%writefile textfile1.txt\n",
    "He is a good boy..\n",
    "She is a good girl..\n"
   ]
  },
  {
   "cell_type": "code",
   "execution_count": 7,
   "metadata": {},
   "outputs": [
    {
     "name": "stdout",
     "output_type": "stream",
     "text": [
      "He is a good boy..\n",
      "She is a good girl..\n",
      "\n"
     ]
    }
   ],
   "source": [
    "try:\n",
    "    myfile3=open(\"textfile1.txt\")\n",
    "    myfile3.seek(0)\n",
    "    texts=myfile3.read()\n",
    "except Exception as error:\n",
    "    print(\"error\")\n",
    "else:\n",
    "    myfile4=open(\"textfile22.txt\",'w+')\n",
    "    myfile4.write(texts)\n",
    "    myfile4.seek(0)\n",
    "finally:\n",
    "    z=myfile4.read()\n",
    "    print(z)\n",
    "\n",
    "\n",
    "\n"
   ]
  },
  {
   "cell_type": "code",
   "execution_count": null,
   "metadata": {},
   "outputs": [],
   "source": []
  }
 ],
 "metadata": {
  "kernelspec": {
   "display_name": "Python 3",
   "language": "python",
   "name": "python3"
  },
  "language_info": {
   "codemirror_mode": {
    "name": "ipython",
    "version": 3
   },
   "file_extension": ".py",
   "mimetype": "text/x-python",
   "name": "python",
   "nbconvert_exporter": "python",
   "pygments_lexer": "ipython3",
   "version": "3.8.3"
  }
 },
 "nbformat": 4,
 "nbformat_minor": 4
}
