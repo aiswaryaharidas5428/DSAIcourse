{
 "cells": [
  {
   "cell_type": "markdown",
   "metadata": {},
   "source": [
    "# ASSIGNMENT 2"
   ]
  },
  {
   "cell_type": "code",
   "execution_count": 10,
   "metadata": {},
   "outputs": [
    {
     "data": {
      "text/plain": [
       "(11, [222, 33], 44, 55)"
      ]
     },
     "execution_count": 10,
     "metadata": {},
     "output_type": "execute_result"
    }
   ],
   "source": [
    "#Q1.MODIFY THE FIRST ITEM (22) OF A LIST INSIDE A FOLLOWING TUPLE TO 222.\n",
    "#TUPLE1=(11,[22,33],44,55)\n",
    "\n",
    "tuple1=(11,[22,33],44,55)\n",
    "tuple1[1][0]=222\n",
    "tuple1"
   ]
  },
  {
   "cell_type": "code",
   "execution_count": 6,
   "metadata": {},
   "outputs": [
    {
     "name": "stdout",
     "output_type": "stream",
     "text": [
      "Total occurrence of 50 :  2\n"
     ]
    }
   ],
   "source": [
    "#Q2.COUNT THE NUMBER OF OCCURRENCES OF ITEM 50 FROM A TUPLE \n",
    "#tuple1=(50,10,60,70,50)\n",
    "\n",
    "tuple1=(50,10,60,70,50)\n",
    "for i in tuple1:\n",
    "    if i==50:\n",
    "        count=1\n",
    "        totalcount=count+1\n",
    "print(\"Total occurrence of 50 : \",totalcount)        \n",
    "        "
   ]
  },
  {
   "cell_type": "code",
   "execution_count": 7,
   "metadata": {},
   "outputs": [
    {
     "data": {
      "text/plain": [
       "('cow', 'goat', 'dog', 'parrot', 'pig')"
      ]
     },
     "execution_count": 7,
     "metadata": {},
     "output_type": "execute_result"
    }
   ],
   "source": [
    "#Q3.WRITE A PYTHON PROGRAM TO COVERT A LIST TO TUPLE\n",
    "\n",
    "lst=['cow','goat','dog','parrot','pig']\n",
    "tuple1=tuple(lst)\n",
    "tuple1"
   ]
  },
  {
   "cell_type": "code",
   "execution_count": 8,
   "metadata": {},
   "outputs": [
    {
     "data": {
      "text/plain": [
       "{10, 20, 30, 40, 50, 60, 70}"
      ]
     },
     "execution_count": 8,
     "metadata": {},
     "output_type": "execute_result"
    }
   ],
   "source": [
    "#Q4.RETURNS A NEW SET WITH ALL ITEMS FROM BOTH SETS BY REMOVING DUPLICATES\n",
    "#set1={10,20,30,40,50}\n",
    "#set2={30,40,50,60,70}\n",
    "\n",
    "set1={10,20,30,40,50}\n",
    "set2={30,40,50,60,70}\n",
    "set3=set1|set2\n",
    "set3"
   ]
  },
  {
   "cell_type": "code",
   "execution_count": 9,
   "metadata": {},
   "outputs": [
    {
     "data": {
      "text/plain": [
       "{'Ten': 10, 'Twenty': 20, 'Thirty': 30, 'Forty': 40, 'Fifty': 50}"
      ]
     },
     "execution_count": 9,
     "metadata": {},
     "output_type": "execute_result"
    }
   ],
   "source": [
    "#Q5.MERGE FOLLOWING TWO PYTHON DICTIONARIES INTO ONE\n",
    "#dict1={'Ten':10,'Twenty':20,'Thirty':30}\n",
    "#dict2={'Thirty':30,'Forty':40,'Fifty':50}\n",
    "\n",
    "#EXPECTED OUTPUT:{'Ten':10,'Twenty':20,'Thirty':30,'Forty':40,'Fifty':50}\n",
    "\n",
    "dict1={'Ten':10,'Twenty':20,'Thirty':30}\n",
    "dict2={'Thirty':30,'Forty':40,'Fifty':50}\n",
    "dict1.update(dict2)\n",
    "dict1"
   ]
  },
  {
   "cell_type": "code",
   "execution_count": 52,
   "metadata": {},
   "outputs": [
    {
     "data": {
      "text/plain": [
       "{'emp1': {'name': 'John', 'salary': 7500},\n",
       " 'emp2': {'name': 'Emma', 'salary': 8000},\n",
       " 'emp3': {'name': 'Brad', 'salary': 8500}}"
      ]
     },
     "execution_count": 52,
     "metadata": {},
     "output_type": "execute_result"
    }
   ],
   "source": [
    "#Q6.GIVEN A PYTHON DICTIONARY, CHANGE BRAD'S SALARY TO 8500\n",
    "#sampleDict={'emp1':{'name':'John','salary':7500},\n",
    "#            'emp2':{'name':'Emma','salary':8000},\n",
    "#            'emp3':{'name':'Brad','salary':6500}\n",
    "#            }\n",
    "\n",
    "#EXPECTED OUTPUT:\n",
    "\n",
    "#sampleDict={'emp1':{'name':'John','salary':7500},\n",
    "#            'emp2':{'name':'Emma','salary':8000},\n",
    "#            'emp3':{'name':'Brad','salary':8500}\n",
    "#            }\n",
    "\n",
    "sampleDict={'emp1':{'name':'John','salary':7500},'emp2':{'name':'Emma','salary':8000},'emp3':{'name':'Brad','salary':6500}}\n",
    "sampleDict['emp3']['salary']=8500\n",
    "sampleDict"
   ]
  },
  {
   "cell_type": "code",
   "execution_count": 54,
   "metadata": {},
   "outputs": [
    {
     "data": {
      "text/plain": [
       "{'name': 'Kelly', 'age': 25, 'salary': 8000, 'location': 'New york'}"
      ]
     },
     "execution_count": 54,
     "metadata": {},
     "output_type": "execute_result"
    }
   ],
   "source": [
    "#Q7.RENAME KEY CITY TO LOCATION IN THE FOLLOWING DICTIONARY\n",
    "#sampleDict={\"name\":\"Kelly\",\"age\":25,\"salary\":8000,\"city\":\"New york\"}\n",
    "\n",
    "#EXPECTED OUT: {\"name\":\"Kelly\",\"age\":25,\"salary\":8000,\"location\":\"New york\"}\n",
    "\n",
    "\n",
    "sampleDict={\"name\":\"Kelly\",\"age\":25,\"salary\":8000,\"city\":\"New york\"}\n",
    "sampleDict[\"location\"]=sampleDict.pop(\"city\")\n",
    "sampleDict\n"
   ]
  },
  {
   "cell_type": "markdown",
   "metadata": {},
   "source": [
    "# ASSIGNMENT 3"
   ]
  },
  {
   "cell_type": "code",
   "execution_count": 59,
   "metadata": {},
   "outputs": [
    {
     "data": {
      "text/plain": [
       "(13, 7)"
      ]
     },
     "execution_count": 59,
     "metadata": {},
     "output_type": "execute_result"
    }
   ],
   "source": [
    "#Q1.WRITE A FUNCTION calculation() SUCH THAT IT CAN ACCEPT TWO VARIABLES S ARGUMENTS AND CALCULATE THE ADDITION AND SUBTRACTION OF IT.AND ALSO IT MUST RETURN BOTH ADDITION AND SUBTRACTON IN A SINGLE RETURN CALL\n",
    "\n",
    "def calculation(a,b):\n",
    "    c=a+b\n",
    "    d=a-b\n",
    "    return c,d\n",
    "calculation(10,3)\n"
   ]
  },
  {
   "cell_type": "code",
   "execution_count": 60,
   "metadata": {},
   "outputs": [
    {
     "name": "stdout",
     "output_type": "stream",
     "text": [
      "aishu 9000\n",
      "aishu 7000\n"
     ]
    }
   ],
   "source": [
    "#Q2.CREATE A FUNCTION showEmployee() IN SUCH A WAY THAT IT SHOULD ACCEPT EMPLOYEE NAME AND ITS SALARY AND DISPLAY BOTH AND IF THE SALARY IS MISSING IN FUNCTION CALL IT SHOULD SHOW IT AS 9000\n",
    "\n",
    "def showEmployee(empname,salary=9000):\n",
    "    print(empname,salary)\n",
    "showEmployee('aishu')\n",
    "showEmployee('aishu',7000) "
   ]
  },
  {
   "cell_type": "code",
   "execution_count": 4,
   "metadata": {},
   "outputs": [
    {
     "data": {
      "text/plain": [
       "{'a': 1, 'w': 1, 'e': 2, 's': 1, 'o': 1, 'm': 1}"
      ]
     },
     "execution_count": 4,
     "metadata": {},
     "output_type": "execute_result"
    }
   ],
   "source": [
    "#Q3.WRITE A FUNCTION CALLED multipleLetterCount .THIS FUNCTION TAKES IN ONE PARAMETER (A STRING) AND RETURNS A DICTIONARY WITH THE KEYS BEING THE LETTERS AND THE VALUE BEING THE COUNT OF THE LETTER.\n",
    "#EXAMPLE OUTPUT:\n",
    "# multipleLetterCount('awesome')\n",
    "\n",
    "dict={}\n",
    "def multipleLettercount(string):\n",
    "    for i in string:\n",
    "        if i in dict:\n",
    "             dict[i]+=1\n",
    "        else:\n",
    "            dict[i]=1\n",
    "    return dict\n",
    "newdict=multipleLettercount('awesome')\n",
    "newdict\n"
   ]
  },
  {
   "cell_type": "code",
   "execution_count": null,
   "metadata": {},
   "outputs": [],
   "source": []
  }
 ],
 "metadata": {
  "kernelspec": {
   "display_name": "Python 3",
   "language": "python",
   "name": "python3"
  },
  "language_info": {
   "codemirror_mode": {
    "name": "ipython",
    "version": 3
   },
   "file_extension": ".py",
   "mimetype": "text/x-python",
   "name": "python",
   "nbconvert_exporter": "python",
   "pygments_lexer": "ipython3",
   "version": "3.8.3"
  }
 },
 "nbformat": 4,
 "nbformat_minor": 4
}
