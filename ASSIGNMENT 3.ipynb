{
 "cells": [
  {
   "cell_type": "markdown",
   "metadata": {},
   "source": [
    "# ASSIGNMENT 3"
   ]
  },
  {
   "cell_type": "code",
   "execution_count": 2,
   "metadata": {},
   "outputs": [
    {
     "data": {
      "text/plain": [
       "(13, 7)"
      ]
     },
     "execution_count": 2,
     "metadata": {},
     "output_type": "execute_result"
    }
   ],
   "source": [
    "#Q1.WRITE A FUNCTION calculation() SUCH THAT IT CAN ACCEPT TWO VARIABLES S ARGUMENTS AND CALCULATE THE ADDITION AND SUBTRACTION OF IT.AND ALSO IT MUST RETURN BOTH ADDITION AND SUBTRACTON IN A SINGLE RETURN CALL\n",
    "\n",
    "def calculation(a,b):\n",
    "    c=a+b\n",
    "    d=a-b\n",
    "    return c,d\n",
    "calculation(10,3)\n"
   ]
  },
  {
   "cell_type": "code",
   "execution_count": 3,
   "metadata": {},
   "outputs": [
    {
     "name": "stdout",
     "output_type": "stream",
     "text": [
      "aishu 9000\n",
      "aishu 7000\n"
     ]
    }
   ],
   "source": [
    "#Q2.CREATE A FUNCTION showEmployee() IN SUCH A WAY THAT IT SHOULD ACCEPT EMPLOYEE NAME AND ITS SALARY AND DISPLAY BOTH AND IF THE SALARY IS MISSING IN FUNCTION CALL IT SHOULD SHOW IT AS 9000\n",
    "\n",
    "def showEmployee(empname,salary=9000):\n",
    "    print(empname,salary)\n",
    "showEmployee('aishu')\n",
    "showEmployee('aishu',7000) "
   ]
  },
  {
   "cell_type": "code",
   "execution_count": 4,
   "metadata": {},
   "outputs": [
    {
     "data": {
      "text/plain": [
       "{'a': 1, 'w': 1, 'e': 2, 's': 1, 'o': 1, 'm': 1}"
      ]
     },
     "execution_count": 4,
     "metadata": {},
     "output_type": "execute_result"
    }
   ],
   "source": [
    "#Q3.WRITE A FUNCTION CALLED multipleLetterCount .THIS FUNCTION TAKES IN ONE PARAMETER (A STRING) AND RETURNS A DICTIONARY WITH THE KEYS BEING THE LETTERS AND THE VALUE BEING THE COUNT OF THE LETTER.\n",
    "#EXAMPLE OUTPUT:\n",
    "# multipleLetterCount('awesome')\n",
    "\n",
    "dict={}\n",
    "def multipleLettercount(string):\n",
    "    for i in string:\n",
    "        if i in dict:\n",
    "             dict[i]+=1\n",
    "        else:\n",
    "            dict[i]=1\n",
    "    return dict\n",
    "newdict=multipleLettercount('awesome')\n",
    "newdict\n"
   ]
  },
  {
   "cell_type": "code",
   "execution_count": null,
   "metadata": {},
   "outputs": [],
   "source": []
  }
 ],
 "metadata": {
  "kernelspec": {
   "display_name": "Python 3",
   "language": "python",
   "name": "python3"
  },
  "language_info": {
   "codemirror_mode": {
    "name": "ipython",
    "version": 3
   },
   "file_extension": ".py",
   "mimetype": "text/x-python",
   "name": "python",
   "nbconvert_exporter": "python",
   "pygments_lexer": "ipython3",
   "version": "3.8.3"
  }
 },
 "nbformat": 4,
 "nbformat_minor": 4
}
